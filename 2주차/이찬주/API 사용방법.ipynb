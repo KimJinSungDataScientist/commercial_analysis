{
 "cells": [
  {
   "cell_type": "code",
   "execution_count": 1,
   "id": "stuffed-greeting",
   "metadata": {},
   "outputs": [],
   "source": [
    "import requests, bs4\n",
    "import pandas as pd\n",
    "from lxml import html\n",
    "from urllib.request import Request, urlopen\n",
    "from urllib.parse import urlencode, quote_plus, unquote"
   ]
  },
  {
   "cell_type": "code",
   "execution_count": 2,
   "id": "dated-advertising",
   "metadata": {},
   "outputs": [],
   "source": [
    "xmlUrl = 'http://apis.data.go.kr/B553077/api/open/sdsc'"
   ]
  },
  {
   "cell_type": "code",
   "execution_count": 3,
   "id": "black-savings",
   "metadata": {},
   "outputs": [],
   "source": [
    "My_API_Key = unquote('gekkVz5HVboSFBkg8vKhqh1Wt2zUBaqTlmP5qJw6G24fgneLp9Ld8Duwu4ZNpd2r0PP5UfXpr651nd0q%2BBNLBg%3D%3D')"
   ]
  },
  {
   "cell_type": "code",
   "execution_count": null,
   "id": "fitting-vault",
   "metadata": {},
   "outputs": [],
   "source": [
    "queryParams = '?' + urlencode(    # get 방식으로 쿼리를 분리하기 위해 '?'를 넣은 것이다. 메타코드 아님.\n",
    "    {\n",
    "        quote_plus('ServiceKey') : My_API_Key,    # 필수 항목 1 : 서비스키 (본인의 서비스키)\n",
    "        quote_plus('LAWD_CD') : '11110',          # 필수 항목 2 : 지역코드 (법정코드목록조회에서 확인)\n",
    "        quote_plus('DEAL_YMD') : '201512'         # 픽수 항목 3 : 계약월\n",
    "     }\n",
    ")\n",
    "\n",
    "response = requests.get(xmlUrl + queryParams).text.encode('utf-8')\n",
    "xmlobj = bs4.BeautifulSoup(response, 'lxml-xml')"
   ]
  }
 ],
 "metadata": {
  "kernelspec": {
   "display_name": "Python 3",
   "language": "python",
   "name": "python3"
  },
  "language_info": {
   "codemirror_mode": {
    "name": "ipython",
    "version": 3
   },
   "file_extension": ".py",
   "mimetype": "text/x-python",
   "name": "python",
   "nbconvert_exporter": "python",
   "pygments_lexer": "ipython3",
   "version": "3.8.5"
  }
 },
 "nbformat": 4,
 "nbformat_minor": 5
}
